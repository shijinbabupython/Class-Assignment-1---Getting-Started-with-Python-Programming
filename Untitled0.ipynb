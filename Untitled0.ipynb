{
  "nbformat": 4,
  "nbformat_minor": 0,
  "metadata": {
    "colab": {
      "name": "Untitled0.ipynb",
      "provenance": [],
      "authorship_tag": "ABX9TyPgV3WPBy87boYqzh7RX5vW",
      "include_colab_link": true
    },
    "kernelspec": {
      "name": "python3",
      "display_name": "Python 3"
    }
  },
  "cells": [
    {
      "cell_type": "markdown",
      "metadata": {
        "id": "view-in-github",
        "colab_type": "text"
      },
      "source": [
        "<a href=\"https://colab.research.google.com/github/shijinbabupython/Class-Assignment-1---Getting-Started-with-Python-Programming/blob/master/Untitled0.ipynb\" target=\"_parent\"><img src=\"https://colab.research.google.com/assets/colab-badge.svg\" alt=\"Open In Colab\"/></a>"
      ]
    },
    {
      "cell_type": "markdown",
      "metadata": {
        "id": "zfH3h15hrzPb"
      },
      "source": [
        "2"
      ]
    },
    {
      "cell_type": "code",
      "metadata": {
        "id": "HW7cNbRlr0nJ"
      },
      "source": [
        " \n",
        "from math import pi \n",
        "r=float(input(\"Enter Radius\"))\n",
        "def volume(r):\n",
        "   return 4.0/3.0*pi* r**3\n",
        " \n",
        "print(\"volume= \",volume(r))"
      ],
      "execution_count": null,
      "outputs": []
    },
    {
      "cell_type": "markdown",
      "metadata": {
        "id": "HL2eEZ0Zr4Ei"
      },
      "source": [
        "3"
      ]
    },
    {
      "cell_type": "code",
      "metadata": {
        "id": "CIbxPKaZr5Xy"
      },
      "source": [
        " n=10\n",
        "sum=0\n",
        "for num in range(0,n+1,1): \n",
        "    sum=sum+num \n",
        "   while(num>0) \n",
        "      sum+=num num-=1 \n",
        "print(\"the sum : \",sum)"
      ],
      "execution_count": null,
      "outputs": []
    },
    {
      "cell_type": "markdown",
      "metadata": {
        "id": "Ea0nWXiQr9uD"
      },
      "source": [
        "6a"
      ]
    },
    {
      "cell_type": "code",
      "metadata": {
        "id": "1yMacYTur-zZ"
      },
      "source": [
        " def rev_no(n):\n",
        "   n=int(input(\"Enter the no:\"))\n",
        "   rev=0\n",
        "   rem=0\n",
        "   while(n>0):\n",
        "      rem=n%10\n",
        "      rev=(rev*10)+rem\n",
        "      sum=sum+rem\n",
        "      n=n//10\n",
        "print (\"Reverse of entered no.is\",rev)\n",
        "print (\"The sum of digits: \",sum)"
      ],
      "execution_count": null,
      "outputs": []
    },
    {
      "cell_type": "markdown",
      "metadata": {
        "id": "Nl9sazbosDaA"
      },
      "source": [
        "6b"
      ]
    },
    {
      "cell_type": "code",
      "metadata": {
        "id": "oYMbtFIhsEcc"
      },
      "source": [
        " n=int(input(\"Enter the number\")\n",
        "def factorial(n):\n",
        "  if n==1:\n",
        "     return n\n",
        "  else:\n",
        "     return n*factorial (n-1)\n",
        "print (\"The factorial of\",n,\"is\", factorial(n))"
      ],
      "execution_count": null,
      "outputs": []
    },
    {
      "cell_type": "markdown",
      "metadata": {
        "id": "-MD6gx-MsIjo"
      },
      "source": [
        " 7"
      ]
    },
    {
      "cell_type": "code",
      "metadata": {
        "id": "hYQ9kYKIsJwe"
      },
      "source": [
        " def countOccureness(string,substring)\n",
        "   count=0\n",
        "   start=0\n",
        "  while start <len(string):\n",
        "  pos=string find(substring,start)\n",
        "if pos=-1\n",
        "   start=pos+1\n",
        "   count+=1\n",
        "else \n",
        "   break\n",
        "   return count"
      ],
      "execution_count": null,
      "outputs": []
    }
  ]
}