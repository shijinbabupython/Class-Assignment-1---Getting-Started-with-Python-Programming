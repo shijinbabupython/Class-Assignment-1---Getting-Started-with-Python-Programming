{
  "nbformat": 4,
  "nbformat_minor": 0,
  "metadata": {
    "colab": {
      "name": "Copy of Assignment 1",
      "provenance": [],
      "collapsed_sections": [],
      "include_colab_link": true
    },
    "kernelspec": {
      "name": "python3",
      "display_name": "Python 3"
    }
  },
  "cells": [
    {
      "cell_type": "markdown",
      "metadata": {
        "id": "view-in-github",
        "colab_type": "text"
      },
      "source": [
        "<a href=\"https://colab.research.google.com/github/shijinbabupython/Class-Assignment-1---Getting-Started-with-Python-Programming/blob/master/Copy_of_Assignment_1.ipynb\" target=\"_parent\"><img src=\"https://colab.research.google.com/assets/colab-badge.svg\" alt=\"Open In Colab\"/></a>"
      ]
    },
    {
      "cell_type": "markdown",
      "metadata": {
        "id": "wUCWKcfuLIFV",
        "colab_type": "text"
      },
      "source": [
        "Question 2"
      ]
    },
    {
      "cell_type": "code",
      "metadata": {
        "id": "FlWwOJcULK_d",
        "colab_type": "code",
        "colab": {
          "base_uri": "https://localhost:8080/",
          "height": 68
        },
        "outputId": "8c8f2215-0b3e-449a-c8d8-0e87695e4357"
      },
      "source": [
        "Name =\"shijin\"\n",
        "Address =\"Ezhoor, kannur\"\n",
        "Phone_no =\"9878934569\"\n",
        "print(\" Name:\"+Name+\"\\n\",\"Address:\"+Address+\"\\n\",\"Phone no:\"+Phone_no)"
      ],
      "execution_count": null,
      "outputs": [
        {
          "output_type": "stream",
          "text": [
            " Name:shijin\n",
            " Address:Ezhoor, kannur\n",
            " Phone no:9878934569\n"
          ],
          "name": "stdout"
        }
      ]
    },
    {
      "cell_type": "markdown",
      "metadata": {
        "id": "0Xjx0hxmP752",
        "colab_type": "text"
      },
      "source": [
        "Question 3"
      ]
    },
    {
      "cell_type": "code",
      "metadata": {
        "id": "JWnna_GZP-NE",
        "colab_type": "code",
        "colab": {
          "base_uri": "https://localhost:8080/",
          "height": 34
        },
        "outputId": "e3748f97-13d1-4746-c3f7-49d8ff5874f7"
      },
      "source": [
        " \n",
        "name=\"shijin\"\n",
        "print(\"Your name is\",name)"
      ],
      "execution_count": null,
      "outputs": [
        {
          "output_type": "stream",
          "text": [
            "Your name is shijin\n"
          ],
          "name": "stdout"
        }
      ]
    },
    {
      "cell_type": "markdown",
      "metadata": {
        "id": "q6a1xTOITt8G",
        "colab_type": "text"
      },
      "source": [
        "Question 4"
      ]
    },
    {
      "cell_type": "code",
      "metadata": {
        "id": "AoEAjUPLTwsw",
        "colab_type": "code",
        "colab": {
          "base_uri": "https://localhost:8080/",
          "height": 68
        },
        "outputId": "75136db6-3a7d-48e5-a908-c9d99d28dc68"
      },
      "source": [
        "#area of a rectangle \n",
        "Width = float(input(\"Enter the width: \")) \n",
        "Height = float(input(\"Enter the height: \")) \n",
        "area =Width * Height\n",
        "print(\"The area is\",area, \"Square units\")"
      ],
      "execution_count": null,
      "outputs": [
        {
          "output_type": "stream",
          "text": [
            "Enter the width: 10\n",
            "Enter the height: 22.2\n",
            "The area is 222.0 Square units\n"
          ],
          "name": "stdout"
        }
      ]
    },
    {
      "cell_type": "markdown",
      "metadata": {
        "id": "u1mp0byQYWnA",
        "colab_type": "text"
      },
      "source": [
        "Question 5"
      ]
    },
    {
      "cell_type": "code",
      "metadata": {
        "id": "qs4KUyDdYaX_",
        "colab_type": "code",
        "colab": {
          "base_uri": "https://localhost:8080/",
          "height": 68
        },
        "outputId": "5baf6908-f81f-4ceb-d792-c3d1df1e8f4f"
      },
      "source": [
        "#area of a triangle \n",
        "Base= float(input(\"Enter the base: \"))\n",
        "Height= float(input(\"Enter the height: \")) \n",
        "area = .5*Base*Height\n",
        "print(\"The area is\",area, \"square units\")"
      ],
      "execution_count": null,
      "outputs": [
        {
          "output_type": "stream",
          "text": [
            "Enter the base: 3\n",
            "Enter the height: 7\n",
            "The area is 10.5 square units\n"
          ],
          "name": "stdout"
        }
      ]
    },
    {
      "cell_type": "markdown",
      "metadata": {
        "id": "hytZ27j7aKCq",
        "colab_type": "text"
      },
      "source": [
        "Question 6"
      ]
    },
    {
      "cell_type": "code",
      "metadata": {
        "id": "ViO5-IqtaLlG",
        "colab_type": "code",
        "colab": {
          "base_uri": "https://localhost:8080/",
          "height": 51
        },
        "outputId": "6182c4c0-5557-4f9d-bb97-7a69272c9de3"
      },
      "source": [
        "#area of a circle\n",
        "radius = float(input(\"Enter the radius: \")) \n",
        "area = 3.14*radius**2\n",
        "print(\"The area is\", area, \"square units\")"
      ],
      "execution_count": null,
      "outputs": [
        {
          "output_type": "stream",
          "text": [
            "Enter the radius: 3.9\n",
            "The area is 47.7594 square units\n"
          ],
          "name": "stdout"
        }
      ]
    },
    {
      "cell_type": "markdown",
      "metadata": {
        "id": "3QVG4MDjcRA2",
        "colab_type": "text"
      },
      "source": [
        "Question 7"
      ]
    },
    {
      "cell_type": "code",
      "metadata": {
        "id": "G6tQdrPJcSb2",
        "colab_type": "code",
        "colab": {
          "base_uri": "https://localhost:8080/",
          "height": 88
        },
        "outputId": "00b384da-4869-4273-886e-848116a4394b"
      },
      "source": [
        "Name = input(\"Enter your name: \") \n",
        "Age =input(\"Enter your age: \") \n",
        "print(\"My name is \"+Name+\" and my age is \"+Age)"
      ],
      "execution_count": null,
      "outputs": [
        {
          "output_type": "stream",
          "text": [
            "Enter your name: Shijin Babu\n",
            "Enter your age: 20\n",
            "My name is Shijin Babu and my age is 20\n"
          ],
          "name": "stdout"
        }
      ]
    },
    {
      "cell_type": "markdown",
      "metadata": {
        "id": "Fpi4MVLMeTuj",
        "colab_type": "text"
      },
      "source": [
        "Question 8"
      ]
    },
    {
      "cell_type": "code",
      "metadata": {
        "id": "eMV_6n2ueVzG",
        "colab_type": "code",
        "colab": {
          "base_uri": "https://localhost:8080/",
          "height": 51
        },
        "outputId": "48f0c40a-ed36-4a3d-80de-fd0d42942c0e"
      },
      "source": [
        "a= float(input(\"Enter a number: \")) \n",
        "a=a+1\n",
        "print(a)"
      ],
      "execution_count": null,
      "outputs": [
        {
          "output_type": "stream",
          "text": [
            "Enter a number: 13.3\n",
            "14.3\n"
          ],
          "name": "stdout"
        }
      ]
    },
    {
      "cell_type": "markdown",
      "metadata": {
        "id": "q6Rd7fRlgV-5",
        "colab_type": "text"
      },
      "source": [
        "Question 9"
      ]
    },
    {
      "cell_type": "code",
      "metadata": {
        "id": "BP4xfadHgZdQ",
        "colab_type": "code",
        "colab": {
          "base_uri": "https://localhost:8080/",
          "height": 51
        },
        "outputId": "4fc2e0d6-d041-49d4-9724-ebdcf24f2962"
      },
      "source": [
        "Name = input(\"Enter your first name: \") \n",
        "print(Name)"
      ],
      "execution_count": null,
      "outputs": [
        {
          "output_type": "stream",
          "text": [
            "Enter your first name: Shijin\n",
            "Shijin\n"
          ],
          "name": "stdout"
        }
      ]
    },
    {
      "cell_type": "code",
      "metadata": {
        "id": "3z7t3_BQhL-M",
        "colab_type": "code",
        "colab": {
          "base_uri": "https://localhost:8080/",
          "height": 52
        },
        "outputId": "044a8c92-7c47-4bb8-dd16-90570e5145a6"
      },
      "source": [
        "input(\"Enter your first name: \")"
      ],
      "execution_count": null,
      "outputs": [
        {
          "output_type": "stream",
          "text": [
            "Enter your first name: Shijin\n"
          ],
          "name": "stdout"
        },
        {
          "output_type": "execute_result",
          "data": {
            "application/vnd.google.colaboratory.intrinsic+json": {
              "type": "string"
            },
            "text/plain": [
              "'Shijin'"
            ]
          },
          "metadata": {
            "tags": []
          },
          "execution_count": 17
        }
      ]
    }
  ]
}